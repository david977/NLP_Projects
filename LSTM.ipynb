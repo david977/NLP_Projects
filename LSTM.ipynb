{
 "cells": [
  {
   "cell_type": "code",
   "execution_count": 1,
   "metadata": {},
   "outputs": [
    {
     "name": "stderr",
     "output_type": "stream",
     "text": [
      "Using TensorFlow backend.\n"
     ]
    }
   ],
   "source": [
    "import pandas as pd\n",
    "from sklearn.model_selection import train_test_split\n",
    "\n",
    "import numpy as np \n",
    "import matplotlib.pyplot as plt\n",
    "import seaborn as sns\n",
    "from keras.preprocessing.text import Tokenizer\n",
    "from keras.preprocessing.sequence import pad_sequences\n",
    "from keras.models import Sequential\n",
    "from keras.layers import Dense, Embedding, LSTM, SpatialDropout1D\n",
    "from sklearn.model_selection import train_test_split\n",
    "from keras.utils.np_utils import to_categorical\n",
    "from keras.callbacks import EarlyStopping\n",
    "from keras.layers import Dropout\n",
    "import re\n",
    "from nltk.corpus import stopwords\n",
    "from nltk import word_tokenize\n",
    "STOPWORDS = set(stopwords.words('english'))\n",
    "from bs4 import BeautifulSoup\n",
    "# import plotly.graph_objs as go\n",
    "# import plotly.plotly as py\n",
    "# import cufflinks\n",
    "from IPython.core.interactiveshell import InteractiveShell\n",
    "# import plotly.figure_factory as ff\n",
    "InteractiveShell.ast_node_interactivity = 'all'\n",
    "#from plotly.offline import iplot\n",
    "#cufflinks.go_offline()\n",
    "#cufflinks.set_config_file(world_readable=True, theme='pearl')"
   ]
  },
  {
   "cell_type": "code",
   "execution_count": 3,
   "metadata": {},
   "outputs": [],
   "source": [
    "df=pd.read_csv(\"faqs.csv\", sep=';', engine='python')"
   ]
  },
  {
   "cell_type": "code",
   "execution_count": 24,
   "metadata": {},
   "outputs": [
    {
     "name": "stdout",
     "output_type": "stream",
     "text": [
      "<class 'pandas.core.frame.DataFrame'>\n",
      "RangeIndex: 217 entries, 0 to 216\n",
      "Data columns (total 2 columns):\n",
      "cust_inquiry    217 non-null object\n",
      "label           217 non-null object\n",
      "dtypes: object(2)\n",
      "memory usage: 3.5+ KB\n"
     ]
    }
   ],
   "source": [
    "df.info()"
   ]
  },
  {
   "cell_type": "markdown",
   "metadata": {},
   "source": [
    "# Cleaning Data"
   ]
  },
  {
   "cell_type": "code",
   "execution_count": 4,
   "metadata": {},
   "outputs": [],
   "source": [
    "import re\n",
    "from nltk.corpus import stopwords\n",
    "from nltk.stem import WordNetLemmatizer\n",
    "#Basic text preprocessing\n",
    "def clean_text(text):\n",
    "    \n",
    "    ## convert words to lower case \n",
    "    text = text.lower()\n",
    "    \n",
    "    ## replace contractions\n",
    "    text = re.sub(r\"\\'ve\", \" have \", text)\n",
    "    text = re.sub(r\"\\'m\", \" am \", text)\n",
    "    text = re.sub(r\"\\'d\", \" would \", text)\n",
    "    text = re.sub(r\"n't\", \" not \", text)\n",
    "    text = re.sub(r\"\\'re\", \" are \", text)\n",
    "    text = re.sub(r\"\\'ll\", \" will \", text)\n",
    "    text = re.sub(r\"what's\", \"what is \", text)\n",
    "    \n",
    "    ## remove special characters and puntuaction\n",
    "    text = re.sub(r\"[^A-Za-z0-9]\", \" \", text)\n",
    "    text = text.split()\n",
    "    \n",
    "    ## remove stop words and words with less than 3 letters\n",
    "    stops = set(stopwords.words(\"english\"))\n",
    "    text = [w for w in text if not w in stops and len(w) >= 3]\n",
    "    \n",
    "   \n",
    "    ## lemmatize words based on verb \n",
    "    lema = WordNetLemmatizer()\n",
    "    lema_words = [lema.lemmatize(word, pos=\"v\") for word in text]\n",
    "    text = \" \".join(lema_words)\n",
    "    \n",
    "    return text"
   ]
  },
  {
   "cell_type": "code",
   "execution_count": 6,
   "metadata": {},
   "outputs": [
    {
     "data": {
      "text/html": [
       "<div>\n",
       "<style scoped>\n",
       "    .dataframe tbody tr th:only-of-type {\n",
       "        vertical-align: middle;\n",
       "    }\n",
       "\n",
       "    .dataframe tbody tr th {\n",
       "        vertical-align: top;\n",
       "    }\n",
       "\n",
       "    .dataframe thead th {\n",
       "        text-align: right;\n",
       "    }\n",
       "</style>\n",
       "<table border=\"1\" class=\"dataframe\">\n",
       "  <thead>\n",
       "    <tr style=\"text-align: right;\">\n",
       "      <th></th>\n",
       "      <th>cust_inquiry</th>\n",
       "      <th>label</th>\n",
       "      <th>cleanText</th>\n",
       "    </tr>\n",
       "  </thead>\n",
       "  <tbody>\n",
       "    <tr>\n",
       "      <th>86</th>\n",
       "      <td>What happens if the Gift Voucher I bought hasn...</td>\n",
       "      <td>payment_voucher</td>\n",
       "      <td>happen gift voucher buy receive</td>\n",
       "    </tr>\n",
       "    <tr>\n",
       "      <th>29</th>\n",
       "      <td>My return label is missing. How do I replace it?</td>\n",
       "      <td>return_refund</td>\n",
       "      <td>return label miss replace</td>\n",
       "    </tr>\n",
       "    <tr>\n",
       "      <th>119</th>\n",
       "      <td>Can I have my order delivered to a PO Box addr...</td>\n",
       "      <td>delivery</td>\n",
       "      <td>order deliver box address</td>\n",
       "    </tr>\n",
       "    <tr>\n",
       "      <th>140</th>\n",
       "      <td>How do I return my order from Denmark?</td>\n",
       "      <td>return_refund</td>\n",
       "      <td>return order denmark</td>\n",
       "    </tr>\n",
       "    <tr>\n",
       "      <th>174</th>\n",
       "      <td>I'd like to close my account with , what shoul...</td>\n",
       "      <td>technical</td>\n",
       "      <td>would like close account</td>\n",
       "    </tr>\n",
       "  </tbody>\n",
       "</table>\n",
       "</div>"
      ],
      "text/plain": [
       "                                          cust_inquiry            label  \\\n",
       "86   What happens if the Gift Voucher I bought hasn...  payment_voucher   \n",
       "29    My return label is missing. How do I replace it?    return_refund   \n",
       "119  Can I have my order delivered to a PO Box addr...         delivery   \n",
       "140             How do I return my order from Denmark?    return_refund   \n",
       "174  I'd like to close my account with , what shoul...        technical   \n",
       "\n",
       "                           cleanText  \n",
       "86   happen gift voucher buy receive  \n",
       "29         return label miss replace  \n",
       "119        order deliver box address  \n",
       "140             return order denmark  \n",
       "174         would like close account  "
      ]
     },
     "execution_count": 6,
     "metadata": {},
     "output_type": "execute_result"
    }
   ],
   "source": [
    "from sklearn.utils import shuffle\n",
    "df = shuffle(df)\n",
    "sentences=df[\"cust_inquiry\"]\n",
    "\n",
    "df['cleanText']=sentences.apply(clean_text)\n",
    "\n",
    "\n",
    "#targets=pd.get_dummies(df[\"label\"])\n",
    "\n",
    "df.head()"
   ]
  },
  {
   "cell_type": "raw",
   "metadata": {},
   "source": []
  },
  {
   "cell_type": "code",
   "execution_count": null,
   "metadata": {},
   "outputs": [],
   "source": []
  },
  {
   "cell_type": "code",
   "execution_count": 34,
   "metadata": {},
   "outputs": [
    {
     "name": "stdout",
     "output_type": "stream",
     "text": [
      "Found 310 unique tokens.\n"
     ]
    }
   ],
   "source": [
    "# The maximum number of words to be used. (most frequent)\n",
    "MAX_NB_WORDS = 50000\n",
    "# Max number of words in each complaint.\n",
    "MAX_SEQUENCE_LENGTH = 250\n",
    "# This is fixed.\n",
    "EMBEDDING_DIM = 200\n",
    "tokenizer = Tokenizer(num_words=MAX_NB_WORDS, filters='!\"#$%&()*+,-./:;<=>?@[\\]^_`{|}~', lower=True)\n",
    "tokenizer.fit_on_texts(df['cleanText'].values)\n",
    "word_index = tokenizer.word_index\n",
    "print('Found %s unique tokens.' % len(word_index))"
   ]
  },
  {
   "cell_type": "code",
   "execution_count": 35,
   "metadata": {},
   "outputs": [
    {
     "name": "stdout",
     "output_type": "stream",
     "text": [
      "Shape of data tensor: (217, 250)\n"
     ]
    }
   ],
   "source": [
    "X = tokenizer.texts_to_sequences(df['cleanText'].values)\n",
    "X = pad_sequences(X, maxlen=MAX_SEQUENCE_LENGTH)\n",
    "print('Shape of data tensor:', X.shape)"
   ]
  },
  {
   "cell_type": "code",
   "execution_count": 36,
   "metadata": {},
   "outputs": [
    {
     "name": "stdout",
     "output_type": "stream",
     "text": [
      "(195, 250) (195, 7)\n",
      "(22, 250) (22, 7)\n"
     ]
    }
   ],
   "source": [
    "X_train, X_test, Y_train, Y_test = train_test_split(X,targets, test_size = 0.10, random_state = 42)\n",
    "print(X_train.shape,Y_train.shape)\n",
    "print(X_test.shape,Y_test.shape)"
   ]
  },
  {
   "cell_type": "markdown",
   "metadata": {},
   "source": [
    "# Creating Model"
   ]
  },
  {
   "cell_type": "code",
   "execution_count": 37,
   "metadata": {},
   "outputs": [
    {
     "name": "stdout",
     "output_type": "stream",
     "text": [
      "Train on 175 samples, validate on 20 samples\n",
      "Epoch 1/25\n",
      "175/175 [==============================] - 7s 41ms/step - loss: 1.9379 - acc: 0.2057 - val_loss: 1.9254 - val_acc: 0.1000\n",
      "Epoch 2/25\n",
      "175/175 [==============================] - 4s 24ms/step - loss: 1.9031 - acc: 0.1943 - val_loss: 1.9113 - val_acc: 0.1000\n",
      "Epoch 3/25\n",
      "175/175 [==============================] - 4s 25ms/step - loss: 1.8601 - acc: 0.2057 - val_loss: 1.9055 - val_acc: 0.1000\n",
      "Epoch 4/25\n",
      "175/175 [==============================] - 4s 25ms/step - loss: 1.8617 - acc: 0.1943 - val_loss: 1.8593 - val_acc: 0.1500\n",
      "Epoch 5/25\n",
      "175/175 [==============================] - 4s 25ms/step - loss: 1.8370 - acc: 0.2857 - val_loss: 1.8370 - val_acc: 0.1000\n",
      "Epoch 6/25\n",
      "175/175 [==============================] - 4s 25ms/step - loss: 1.8243 - acc: 0.2743 - val_loss: 1.8281 - val_acc: 0.1000\n",
      "Epoch 7/25\n",
      "175/175 [==============================] - 4s 24ms/step - loss: 1.8188 - acc: 0.2743 - val_loss: 1.8340 - val_acc: 0.1000\n",
      "Epoch 8/25\n",
      "175/175 [==============================] - 4s 25ms/step - loss: 1.7983 - acc: 0.3086 - val_loss: 1.8259 - val_acc: 0.1000\n",
      "Epoch 9/25\n",
      "175/175 [==============================] - 4s 25ms/step - loss: 1.7621 - acc: 0.3714 - val_loss: 1.8285 - val_acc: 0.1000\n",
      "Epoch 10/25\n",
      "175/175 [==============================] - 4s 25ms/step - loss: 1.7226 - acc: 0.3543 - val_loss: 1.8050 - val_acc: 0.2000\n",
      "Epoch 11/25\n",
      "175/175 [==============================] - 4s 25ms/step - loss: 1.6607 - acc: 0.5200 - val_loss: 1.7581 - val_acc: 0.4000\n",
      "Epoch 12/25\n",
      "175/175 [==============================] - 4s 25ms/step - loss: 1.5582 - acc: 0.6686 - val_loss: 1.6792 - val_acc: 0.4000\n",
      "Epoch 13/25\n",
      "175/175 [==============================] - 4s 25ms/step - loss: 1.4285 - acc: 0.6800 - val_loss: 1.6014 - val_acc: 0.5500\n",
      "Epoch 14/25\n",
      "175/175 [==============================] - 4s 23ms/step - loss: 1.2956 - acc: 0.6800 - val_loss: 1.5886 - val_acc: 0.3500\n",
      "Epoch 15/25\n",
      "175/175 [==============================] - 4s 24ms/step - loss: 1.1364 - acc: 0.7086 - val_loss: 1.4505 - val_acc: 0.3500\n",
      "Epoch 16/25\n",
      "175/175 [==============================] - 4s 24ms/step - loss: 0.9841 - acc: 0.7143 - val_loss: 1.3743 - val_acc: 0.5000\n",
      "Epoch 17/25\n",
      "175/175 [==============================] - 4s 24ms/step - loss: 0.8421 - acc: 0.8171 - val_loss: 1.3412 - val_acc: 0.5000\n",
      "Epoch 18/25\n",
      "175/175 [==============================] - 4s 25ms/step - loss: 0.6693 - acc: 0.8343 - val_loss: 1.4017 - val_acc: 0.4500\n",
      "Epoch 19/25\n",
      "175/175 [==============================] - 5s 27ms/step - loss: 0.5606 - acc: 0.8343 - val_loss: 1.1872 - val_acc: 0.5500\n",
      "Epoch 20/25\n",
      "175/175 [==============================] - 5s 26ms/step - loss: 0.4654 - acc: 0.8800 - val_loss: 1.2387 - val_acc: 0.5500\n",
      "Epoch 21/25\n",
      "175/175 [==============================] - 5s 27ms/step - loss: 0.4022 - acc: 0.8857 - val_loss: 1.3960 - val_acc: 0.5500\n",
      "Epoch 22/25\n",
      "175/175 [==============================] - 4s 26ms/step - loss: 0.3489 - acc: 0.8743 - val_loss: 1.2921 - val_acc: 0.6000\n"
     ]
    }
   ],
   "source": [
    "model = Sequential()\n",
    "model.add(Embedding(MAX_NB_WORDS, EMBEDDING_DIM, input_length=X.shape[1]))\n",
    "#model.add(SpatialDropout1D(0.2))\n",
    "model.add(LSTM(100, dropout=0.2, recurrent_dropout=0.2, return_sequences=True))\n",
    "model.add(LSTM(100, dropout=0.2, recurrent_dropout=0.2))\n",
    "model.add(Dense(7, activation='softmax'))\n",
    "model.compile(loss='categorical_crossentropy', optimizer='adam', metrics=['accuracy'])\n",
    "\n",
    "epochs = 25\n",
    "batch_size = 45\n",
    "\n",
    "history = model.fit(X_train, Y_train, epochs=epochs, batch_size=batch_size,validation_split=0.1,callbacks=[EarlyStopping(monitor='val_loss', patience=3, min_delta=0.0001)])"
   ]
  },
  {
   "cell_type": "code",
   "execution_count": 11,
   "metadata": {},
   "outputs": [
    {
     "name": "stdout",
     "output_type": "stream",
     "text": [
      "Train on 175 samples, validate on 20 samples\n",
      "Epoch 1/15\n",
      "175/175 [==============================] - 3s 16ms/step - loss: 1.3785 - acc: 0.6743 - val_loss: 1.6496 - val_acc: 0.4500\n",
      "Epoch 2/15\n",
      "175/175 [==============================] - 3s 17ms/step - loss: 1.2680 - acc: 0.7029 - val_loss: 1.5766 - val_acc: 0.4500\n",
      "Epoch 3/15\n",
      "175/175 [==============================] - 3s 16ms/step - loss: 1.1440 - acc: 0.6800 - val_loss: 1.4852 - val_acc: 0.4000\n",
      "Epoch 4/15\n",
      "175/175 [==============================] - 3s 16ms/step - loss: 1.0527 - acc: 0.7657 - val_loss: 1.4378 - val_acc: 0.4500\n",
      "Epoch 5/15\n",
      "175/175 [==============================] - 3s 15ms/step - loss: 0.9257 - acc: 0.7314 - val_loss: 1.4306 - val_acc: 0.4500\n",
      "Epoch 6/15\n",
      "175/175 [==============================] - 3s 15ms/step - loss: 0.8372 - acc: 0.7543 - val_loss: 1.3601 - val_acc: 0.4500\n",
      "Epoch 7/15\n",
      "175/175 [==============================] - 3s 16ms/step - loss: 0.7044 - acc: 0.8057 - val_loss: 1.3345 - val_acc: 0.4500\n",
      "Epoch 8/15\n",
      "175/175 [==============================] - 3s 16ms/step - loss: 0.6218 - acc: 0.8057 - val_loss: 1.2706 - val_acc: 0.6000\n",
      "Epoch 9/15\n",
      "175/175 [==============================] - 3s 16ms/step - loss: 0.5500 - acc: 0.8457 - val_loss: 1.2132 - val_acc: 0.5500\n",
      "Epoch 10/15\n",
      "175/175 [==============================] - 3s 16ms/step - loss: 0.4765 - acc: 0.8686 - val_loss: 1.1841 - val_acc: 0.5500\n",
      "Epoch 11/15\n",
      "175/175 [==============================] - 3s 17ms/step - loss: 0.4158 - acc: 0.8686 - val_loss: 1.1457 - val_acc: 0.6500\n",
      "Epoch 12/15\n",
      "175/175 [==============================] - 3s 16ms/step - loss: 0.3627 - acc: 0.8857 - val_loss: 1.1642 - val_acc: 0.6000\n",
      "Epoch 13/15\n",
      "175/175 [==============================] - 3s 17ms/step - loss: 0.3001 - acc: 0.9143 - val_loss: 1.1692 - val_acc: 0.6500\n",
      "Epoch 14/15\n",
      "175/175 [==============================] - 3s 17ms/step - loss: 0.2813 - acc: 0.9143 - val_loss: 1.1509 - val_acc: 0.6500\n"
     ]
    }
   ],
   "source": [
    "epochs = 15\n",
    "batch_size = 45\n",
    "\n",
    "history = model.fit(X_train, Y_train, epochs=epochs, batch_size=batch_size,validation_split=0.1,callbacks=[EarlyStopping(monitor='val_loss', patience=3, min_delta=0.0001)])"
   ]
  },
  {
   "cell_type": "markdown",
   "metadata": {},
   "source": [
    "# Testing Accuracy"
   ]
  },
  {
   "cell_type": "code",
   "execution_count": 12,
   "metadata": {},
   "outputs": [
    {
     "name": "stdout",
     "output_type": "stream",
     "text": [
      "22/22 [==============================] - 0s 4ms/step\n",
      "Test set\n",
      "  Loss: 1.231\n",
      "  Accuracy: 0.636\n"
     ]
    }
   ],
   "source": [
    "accr = model.evaluate(X_test,Y_test)\n",
    "print('Test set\\n  Loss: {:0.3f}\\n  Accuracy: {:0.3f}'.format(accr[0],accr[1]))"
   ]
  },
  {
   "cell_type": "code",
   "execution_count": 13,
   "metadata": {},
   "outputs": [
    {
     "data": {
      "image/png": "[encoded data removed]",
      "text/plain": [
       "<Figure size 432x288 with 1 Axes>"
      ]
     },
     "metadata": {
      "needs_background": "light"
     },
     "output_type": "display_data"
    }
   ],
   "source": [
    "plt.title('Loss')\n",
    "plt.plot(history.history['loss'], label='train')\n",
    "plt.plot(history.history['val_loss'], label='test')\n",
    "plt.legend()\n",
    "plt.show();"
   ]
  },
  {
   "cell_type": "code",
   "execution_count": 14,
   "metadata": {},
   "outputs": [
    {
     "data": {
      "image/png": "[encoded data removed]",
      "text/plain": [
       "<Figure size 432x288 with 1 Axes>"
      ]
     },
     "metadata": {
      "needs_background": "light"
     },
     "output_type": "display_data"
    }
   ],
   "source": [
    "plt.title('Accuracy')\n",
    "plt.plot(history.history['acc'], label='train')\n",
    "plt.plot(history.history['val_acc'], label='test')\n",
    "plt.legend()\n",
    "plt.show();"
   ]
  },
  {
   "cell_type": "markdown",
   "metadata": {},
   "source": [
    "# Predicting a Sample Question"
   ]
  },
  {
   "cell_type": "code",
   "execution_count": 16,
   "metadata": {},
   "outputs": [
    {
     "data": {
      "text/plain": [
       "delivery           43\n",
       "payment_voucher    40\n",
       "return_refund      36\n",
       "technical          35\n",
       "product_stock      32\n",
       "order              26\n",
       "sizing              5\n",
       "Name: label, dtype: int64"
      ]
     },
     "execution_count": 16,
     "metadata": {},
     "output_type": "execute_result"
    }
   ],
   "source": [
    "df['label'].value_counts()"
   ]
  },
  {
   "cell_type": "code",
   "execution_count": 17,
   "metadata": {},
   "outputs": [],
   "source": [
    "import joblib\n"
   ]
  },
  {
   "cell_type": "code",
   "execution_count": 18,
   "metadata": {},
   "outputs": [
    {
     "data": {
      "text/plain": [
       "['LSTM-model']"
      ]
     },
     "execution_count": 18,
     "metadata": {},
     "output_type": "execute_result"
    }
   ],
   "source": [
    "joblib.dump(model,'LSTM-model')"
   ]
  },
  {
   "cell_type": "code",
   "execution_count": 42,
   "metadata": {},
   "outputs": [],
   "source": [
    "modellstm=joblib.load('LSTM-model')"
   ]
  },
  {
   "cell_type": "code",
   "execution_count": 45,
   "metadata": {},
   "outputs": [
    {
     "name": "stdout",
     "output_type": "stream",
     "text": [
      "[[0.7263112  0.23431356 0.00912665 0.00399645 0.02163862 0.0033176\n",
      "  0.00129609]] delivery\n"
     ]
    }
   ],
   "source": [
    "new_faq = ['What delivery options are available?']\n",
    "seq = tokenizer.texts_to_sequences(new_faq)\n",
    "padded = pad_sequences(seq, maxlen=MAX_SEQUENCE_LENGTH)\n",
    "pred = modellstm.predict(padded)\n",
    "labels = ['delivery','order','payment_voucher','product_stock','return_refund','sizing','technical']\n",
    "print(pred, labels[np.argmax(pred)])"
   ]
  },
  {
   "cell_type": "code",
   "execution_count": null,
   "metadata": {},
   "outputs": [],
   "source": []
  }
 ],
 "metadata": {
  "kernelspec": {
   "display_name": "Python 3",
   "language": "python",
   "name": "python3"
  },
  "language_info": {
   "codemirror_mode": {
    "name": "ipython",
    "version": 3
   },
   "file_extension": ".py",
   "mimetype": "text/x-python",
   "name": "python",
   "nbconvert_exporter": "python",
   "pygments_lexer": "ipython3",
   "version": "3.7.3"
  }
 },
 "nbformat": 4,
 "nbformat_minor": 2
}
